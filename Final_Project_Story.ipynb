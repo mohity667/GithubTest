{
 "cells": [
  {
   "cell_type": "markdown",
   "metadata": {},
   "source": [
    "# Final Project\n",
    "\n",
    "You have made it to the end of the course, and you have worked hard to develop your DSA perspectives and skills.  So far we have been internally focused on the operations of performing data science and analytics.  Now we will extend our work to the development of a data story that is externally focused.\n",
    "\n",
    "In the Module8 labs, you saw simplified examples of constructing data stories. In module4 (Database) there also was an abbreviated example data story.  Throughout the course, there are components and parts useful to consider as a basis for developing a short, unique, focused data story.\n",
    "\n",
    "\n",
    "For this final project, you will \n",
    "\n",
    "- Step 0: Choose your Language for this Adventure\n",
    "\n",
    "- Step 1: Find a Story\n",
    "\n",
    "- Step 2: Remember your Audience\n",
    "\n",
    "- Step 3: Find and Stage Your Data\n",
    "\n",
    "- Step 4: Vet Data Sources\n",
    "\n",
    "- Step 5: Filter Results and Build/Validate Models\n",
    "\n",
    "- Step 6: Visualize Results\n",
    "\n",
    "- Step 7: Communicate the Story to your intended audience using visualizations and narratives\n",
    "\n",
    "- Final Step: Connect your workflow/process to the DSA-Project Life Cycle\n",
    "\n",
    "---\n",
    "Here are some recommendations for managing the scope and quality of this project:\n",
    "\n",
    "- Narrow down the issue, problem, question, or hypothesis for you data story to a single, relatively simple perspective.\n",
    "\n",
    "- Identify already available data that affords addressing your problem.  If using completely new data, know it well.\n",
    "\n",
    "- Address the data relative to the statistical/machine learning model(s) chosen to minimize any issues.\n",
    "\n",
    "- Internally document your code using comments that explain the purpose of the operation(s).\n",
    "\n",
    "\n",
    "Make your project unique by\n",
    "\n",
    "- Comparing two or more different statistical/machine learning models using the same data.\n",
    "- Refrain from identically replicating any existing projects obtained from external sources.\n",
    "- Running a single model multiple times and changing a different single parameter each time for comparison.\n",
    "- Changing the sampling proportions for building the hold-out data and comparing the same model performance repeatedly.\n",
    "- Select something you find interesting or unique in the data and write a story around it.\n",
    "\n",
    "\n"
   ]
  },
  {
   "cell_type": "markdown",
   "metadata": {},
   "source": [
    "## Step 0: Choose your Language for this Adventure:\n",
    "\n",
    "You can do this project in either *R* or *Python*.\n",
    "\n",
    "To change the kernel of this notebook, do the following with the `Kernel` menu.\n",
    "\n",
    " * `Kernel > Change Kernel > Python 3`\n",
    " * `Kernel > Change Kernel > R`\n",
    "\n",
    "![FP_Change_Kernel.png MISSING](../images/FP_Change_Kernel.png)\n"
   ]
  },
  {
   "cell_type": "markdown",
   "metadata": {},
   "source": [
    "---\n",
    "## Step 1: Find a Story\n",
    "\n",
    "Think back to any of the data files we have used in this class. \n",
    "Alternatively, you can search online for potential data and story ideas.\n",
    "\n",
    "In the cell below, please detail the source of your data (with link).\n",
    "Additionally, preview your story you hope to uncover."
   ]
  },
  {
   "cell_type": "raw",
   "metadata": {
    "collapsed": true
   },
   "source": [
    "The source of the code is from Kaggle - https://www.kaggle.com/farhanmd29/50-startups\n",
    "\n",
    "The Story Will focus on:-\n",
    "Q1.Visualising the training and testing set results for simple linear regression.\n",
    "Q2. Predicting the profit for Simple Linear Regression(Considering one dependent variable)\n",
    "Q3. Applying the one hot encoder and telling how does it works?\n",
    "Q4. Predicting the porfit for test set results with Multiple Linear Regression.\n",
    "Q5. Making a single prediction with three different dependent variables.\n",
    "Q6. Which is the Best Company to Invest for Future?\n",
    "Q7. Where does a company performs better \"New York\" or \"California\" when all others thinngs are held constant.\n",
    "Q8. Money spent on which field will yields more profit.\n",
    "\n",
    "\n"
   ]
  },
  {
   "cell_type": "markdown",
   "metadata": {},
   "source": [
    "## Step 2: Remember your Audience\n",
    "\n",
    "In the cell below, describe your audience!\n",
    " * Who will the audience be?\n",
    " * What value will they derive from your story?"
   ]
  },
  {
   "cell_type": "raw",
   "metadata": {
    "collapsed": true
   },
   "source": [
    "\n",
    "My audience will be the company which has already invested in three different fields with particular state and looking forward to the prediction of the Profit and looking forward that which field of investment is dominating(gives more profit) is the audience.\n",
    "\n",
    "Future companies who want to invest in these fields with particular state shall also consider these dependent variables which results in Profit Prediction.\n",
    "\n",
    "\n",
    "\n"
   ]
  },
  {
   "cell_type": "markdown",
   "metadata": {},
   "source": [
    "## Step 3: Find and Stage Your Data\n",
    "\n",
    "If you data is from another source, such as Kaggle, you must download it to your local computer, then upload the data to JuptyerHub.\n",
    "\n",
    "#### If you are uploading files:\n",
    " * Use folder navigation of your first JupyterTab to get to course's `/modules/module8/exercises/` folder.\n",
    "![FP_Folder_Navigation.png MISSING](../images/FP_Folder_Navigation.png)\n",
    " * Click the Upload Button and Choose File(s)\n",
    "![FP_Upload_Button.png MISSING](../images/FP_Upload_Button.png)\n",
    " * Activate the upload\n",
    "![FP_UploadFile_2.png MISSING](../images/FP_UploadFile_2.png)\n",
    " \n",
    "\n",
    "### In the cell below, please list the name(s) of the file(s) that is now accessible on the JupyterHub environment.\n",
    "\n",
    "**Note**: \n",
    "If you uploaded a file to your `module8/exercises` folder, the file name is all you need to load it into the a data frame in the usual manner.\n",
    "If you are using a file from another module of the course, you should be able to copy the full pathname and use it as is in this notebook."
   ]
  },
  {
   "cell_type": "raw",
   "metadata": {
    "collapsed": true
   },
   "source": [
    "50_Startups.csv\n",
    "\n"
   ]
  },
  {
   "cell_type": "markdown",
   "metadata": {},
   "source": [
    "## Step 4: Vet Data Sources\n",
    "\n",
    "Use the cells below to load the data, inspect it, conduct data carpentry and shaping; perform exploratory data analysis.  \n",
    "\n",
    "Add more cells (`Insert > Insert Cell Below`) if you want additional cells."
   ]
  },
  {
   "cell_type": "code",
   "execution_count": 2,
   "metadata": {},
   "outputs": [],
   "source": [
    "#importing the modules required\n",
    "import numpy as np\n",
    "import pandas as pd\n",
    "\n",
    "\n",
    "\n",
    "\n",
    "\n"
   ]
  },
  {
   "cell_type": "code",
   "execution_count": 3,
   "metadata": {},
   "outputs": [
    {
     "data": {
      "text/html": [
       "<div>\n",
       "<style scoped>\n",
       "    .dataframe tbody tr th:only-of-type {\n",
       "        vertical-align: middle;\n",
       "    }\n",
       "\n",
       "    .dataframe tbody tr th {\n",
       "        vertical-align: top;\n",
       "    }\n",
       "\n",
       "    .dataframe thead th {\n",
       "        text-align: right;\n",
       "    }\n",
       "</style>\n",
       "<table border=\"1\" class=\"dataframe\">\n",
       "  <thead>\n",
       "    <tr style=\"text-align: right;\">\n",
       "      <th></th>\n",
       "      <th>R&amp;D Spend</th>\n",
       "      <th>Administration</th>\n",
       "      <th>Marketing Spend</th>\n",
       "      <th>State</th>\n",
       "      <th>Profit</th>\n",
       "    </tr>\n",
       "  </thead>\n",
       "  <tbody>\n",
       "    <tr>\n",
       "      <th>0</th>\n",
       "      <td>165349.20</td>\n",
       "      <td>136897.80</td>\n",
       "      <td>471784.10</td>\n",
       "      <td>New York</td>\n",
       "      <td>192261.83</td>\n",
       "    </tr>\n",
       "    <tr>\n",
       "      <th>1</th>\n",
       "      <td>162597.70</td>\n",
       "      <td>151377.59</td>\n",
       "      <td>443898.53</td>\n",
       "      <td>California</td>\n",
       "      <td>191792.06</td>\n",
       "    </tr>\n",
       "    <tr>\n",
       "      <th>2</th>\n",
       "      <td>153441.51</td>\n",
       "      <td>101145.55</td>\n",
       "      <td>407934.54</td>\n",
       "      <td>Florida</td>\n",
       "      <td>191050.39</td>\n",
       "    </tr>\n",
       "    <tr>\n",
       "      <th>3</th>\n",
       "      <td>144372.41</td>\n",
       "      <td>118671.85</td>\n",
       "      <td>383199.62</td>\n",
       "      <td>New York</td>\n",
       "      <td>182901.99</td>\n",
       "    </tr>\n",
       "    <tr>\n",
       "      <th>4</th>\n",
       "      <td>142107.34</td>\n",
       "      <td>91391.77</td>\n",
       "      <td>366168.42</td>\n",
       "      <td>Florida</td>\n",
       "      <td>166187.94</td>\n",
       "    </tr>\n",
       "  </tbody>\n",
       "</table>\n",
       "</div>"
      ],
      "text/plain": [
       "   R&D Spend  Administration  Marketing Spend       State     Profit\n",
       "0  165349.20       136897.80        471784.10    New York  192261.83\n",
       "1  162597.70       151377.59        443898.53  California  191792.06\n",
       "2  153441.51       101145.55        407934.54     Florida  191050.39\n",
       "3  144372.41       118671.85        383199.62    New York  182901.99\n",
       "4  142107.34        91391.77        366168.42     Florida  166187.94"
      ]
     },
     "execution_count": 3,
     "metadata": {},
     "output_type": "execute_result"
    }
   ],
   "source": [
    "#importing the dataset\n",
    "df = pd.read_csv('50_Startups.csv')\n",
    "\n",
    "#Overview of the dataset\n",
    "df.head()"
   ]
  },
  {
   "cell_type": "markdown",
   "metadata": {},
   "source": [
    "## Overview of Dataset.\n",
    "\n",
    "1. R&D Spend = Amount of Money Invested in it.\n",
    "2. Administration = Amount of Money Invested in it.\n",
    "3. Marketing Spend = Amount of Money Spend in it.\n",
    "4. State = Different States in which companies have invested.\n",
    "5. Profit = Amount of Profit Generated.\n"
   ]
  },
  {
   "cell_type": "markdown",
   "metadata": {},
   "source": [
    "## Assigning the Dataset to X and y Variable.\n",
    "\n",
    "In this case we will put the Simple Linear regression.\n",
    "We will take one dependent variable(Marketing Spend) and will predict the Profit based upon that.\n",
    "\n",
    "Hence we will split our X and y variables accordingly"
   ]
  },
  {
   "cell_type": "code",
   "execution_count": 4,
   "metadata": {},
   "outputs": [],
   "source": [
    "X = df.iloc[:, 2].values #Column for marketing spend(Dependent Variable)\n",
    "y = df.iloc[:, -1].values #Column for Profit(Independent variable)\n"
   ]
  },
  {
   "cell_type": "code",
   "execution_count": 5,
   "metadata": {},
   "outputs": [
    {
     "data": {
      "text/plain": [
       "(50, 1)"
      ]
     },
     "execution_count": 5,
     "metadata": {},
     "output_type": "execute_result"
    }
   ],
   "source": [
    "#Overview of X variable\n",
    "#print(X)\n",
    "X = X.reshape(-1,1)\n",
    "X.shape"
   ]
  },
  {
   "cell_type": "code",
   "execution_count": 6,
   "metadata": {},
   "outputs": [
    {
     "data": {
      "text/plain": [
       "(50,)"
      ]
     },
     "execution_count": 6,
     "metadata": {},
     "output_type": "execute_result"
    }
   ],
   "source": [
    "#Overview of y Variable\n",
    "#print(y)\n",
    "y.shape"
   ]
  },
  {
   "cell_type": "markdown",
   "metadata": {},
   "source": [
    "## Spliting the dataset into the Training and Testing set"
   ]
  },
  {
   "cell_type": "code",
   "execution_count": 7,
   "metadata": {},
   "outputs": [],
   "source": [
    "#We will use `sklearn` library and import `train_test_split`\n",
    "from sklearn.model_selection import train_test_split\n",
    "\n",
    "#We will split the data into train and test for X and y varaible.\n",
    "# We will split the data into 80% and 20% for train and test sets.\n",
    "# We will keep the random state as 1.\n",
    "X_train, X_test, y_train, y_test = train_test_split(X, y, test_size = 0.2, random_state = 1)\n"
   ]
  },
  {
   "cell_type": "markdown",
   "metadata": {},
   "source": [
    "## Training the Simple Linear Regression model on training set"
   ]
  },
  {
   "cell_type": "code",
   "execution_count": 8,
   "metadata": {},
   "outputs": [
    {
     "data": {
      "text/plain": [
       "LinearRegression(copy_X=True, fit_intercept=True, n_jobs=None,\n",
       "         normalize=False)"
      ]
     },
     "execution_count": 8,
     "metadata": {},
     "output_type": "execute_result"
    }
   ],
   "source": [
    "from sklearn.linear_model import LinearRegression\n",
    "regressor = LinearRegression()\n",
    "regressor.fit(X_train, y_train)"
   ]
  },
  {
   "cell_type": "code",
   "execution_count": 9,
   "metadata": {},
   "outputs": [],
   "source": [
    "y_pred = regressor.predict(X_test)\n"
   ]
  },
  {
   "cell_type": "code",
   "execution_count": 10,
   "metadata": {},
   "outputs": [
    {
     "name": "stdout",
     "output_type": "stream",
     "text": [
      "[[149947.25 105008.31]\n",
      " [113754.07  96479.51]\n",
      " [105733.87  78239.91]\n",
      " [108790.14  81229.06]\n",
      " [163366.73 191050.39]\n",
      " [157304.17 182901.99]\n",
      " [ 63381.4   35673.41]\n",
      " [ 89641.17 101004.64]\n",
      " [136204.58  49490.75]\n",
      " [ 85003.82  97483.56]]\n"
     ]
    }
   ],
   "source": [
    "y_pred = regressor.predict(X_test)\n",
    "np.set_printoptions(precision=2)\n",
    "print(np.concatenate((y_pred.reshape(len(y_pred),1), y_test.reshape(len(y_test),1)),1))"
   ]
  },
  {
   "cell_type": "markdown",
   "metadata": {},
   "source": [
    "## The above prediction is based upon Simple Linear Regression when taking only 1 dependent varaiable.\n",
    "\n",
    "As we can see that the Profit output is not as accurate as we expected it to be, because the prediction depends on more than 1 variable and we will see in the following cells that how does the predicitions becomes better. "
   ]
  },
  {
   "cell_type": "markdown",
   "metadata": {},
   "source": [
    "## Visualisation of results"
   ]
  },
  {
   "cell_type": "code",
   "execution_count": 11,
   "metadata": {},
   "outputs": [],
   "source": [
    "#importing the matplotlib library\n",
    "import matplotlib.pyplot as plt"
   ]
  },
  {
   "cell_type": "markdown",
   "metadata": {},
   "source": [
    "## Training Set Scatter Plot"
   ]
  },
  {
   "cell_type": "code",
   "execution_count": 12,
   "metadata": {},
   "outputs": [
    {
     "data": {
      "image/png": "[encoded data removed]",
      "text/plain": [
       "<Figure size 432x288 with 1 Axes>"
      ]
     },
     "metadata": {
      "needs_background": "light"
     },
     "output_type": "display_data"
    }
   ],
   "source": [
    "#plotting scatter plot for X_train and y_train\n",
    "plt.scatter(X_train, y_train, color = 'red')\n",
    "\n",
    "#plotting regressor line for it\n",
    "plt.plot(X_train, regressor.predict(X_train), color = 'blue')\n",
    "\n",
    "#plotting the Title\n",
    "plt.title('Marketing Spend vs Profit (Training set)')\n",
    "\n",
    "#Labeling X\n",
    "plt.xlabel('Marketing Spend')\n",
    "\n",
    "#Labeling y\n",
    "plt.ylabel('Profit')\n",
    "\n",
    "\n",
    "plt.show()"
   ]
  },
  {
   "cell_type": "markdown",
   "metadata": {},
   "source": [
    "## Testing Set Scatter Plot"
   ]
  },
  {
   "cell_type": "code",
   "execution_count": 13,
   "metadata": {},
   "outputs": [
    {
     "data": {
      "image/png": "[encoded data removed]",
      "text/plain": [
       "<Figure size 432x288 with 1 Axes>"
      ]
     },
     "metadata": {
      "needs_background": "light"
     },
     "output_type": "display_data"
    }
   ],
   "source": [
    "plt.scatter(X_test, y_test, color = 'red')\n",
    "plt.plot(X_train, regressor.predict(X_train), color = 'blue')\n",
    "plt.title('Marketing Spend vs Profit (Test set)')\n",
    "plt.xlabel('Marketing Spend')\n",
    "plt.ylabel('Profit')\n",
    "plt.show()"
   ]
  },
  {
   "cell_type": "markdown",
   "metadata": {},
   "source": [
    "**The Blue line is the Simple Linear Regression line drawn by ML model and to get the formula for this line, we have discussed about it in the following codes.**"
   ]
  },
  {
   "cell_type": "markdown",
   "metadata": {},
   "source": [
    "## Making a single prediction\n"
   ]
  },
  {
   "cell_type": "code",
   "execution_count": 14,
   "metadata": {},
   "outputs": [
    {
     "name": "stdout",
     "output_type": "stream",
     "text": [
      "[157745.45]\n"
     ]
    }
   ],
   "source": [
    "print(regressor.predict([[385000]]))"
   ]
  },
  {
   "cell_type": "markdown",
   "metadata": {},
   "source": [
    "Therefore our Model predict the Profit of a company with marketing spend 385,000 dollars as 157,745 dollars"
   ]
  },
  {
   "cell_type": "code",
   "execution_count": 15,
   "metadata": {},
   "outputs": [
    {
     "name": "stdout",
     "output_type": "stream",
     "text": [
      "[0.25]\n",
      "63381.40444764745\n"
     ]
    }
   ],
   "source": [
    "#regressor Coefficient\n",
    "print(regressor.coef_)\n",
    "\n",
    "#regressor.intercept\n",
    "print(regressor.intercept_)"
   ]
  },
  {
   "cell_type": "markdown",
   "metadata": {},
   "source": [
    "### Hence the Equation of our Simple Linear Regression model is:\n",
    "\n",
    "# Profit = 0.245 * Marketting Spent + 63381.404"
   ]
  },
  {
   "cell_type": "markdown",
   "metadata": {},
   "source": [
    "# Instead of Applying Simple Linear Regression we will apply Multiple Linear Regression in this part.\n",
    "**Because there are multiple variables that plays their part in Prediction of profits.**"
   ]
  },
  {
   "cell_type": "markdown",
   "metadata": {},
   "source": [
    "Let's see what happens when we consider more than one independent variable for this same dataset to predict the output.\n",
    "\n",
    "**For the state variable we will use OneHotEncoder**\n",
    "\n",
    "The Technique is almost similar as above with just few changes."
   ]
  },
  {
   "cell_type": "code",
   "execution_count": 16,
   "metadata": {},
   "outputs": [],
   "source": [
    "df1 = pd.read_csv('50_Startups.csv')\n",
    "X = df1.iloc[:, :-1].values\n",
    "y = df1.iloc[:, -1].values\n"
   ]
  },
  {
   "cell_type": "code",
   "execution_count": 17,
   "metadata": {},
   "outputs": [
    {
     "name": "stdout",
     "output_type": "stream",
     "text": [
      "[[165349.2 136897.8 471784.1 'New York']\n",
      " [162597.7 151377.59 443898.53 'California']\n",
      " [153441.51 101145.55 407934.54 'Florida']\n",
      " [144372.41 118671.85 383199.62 'New York']\n",
      " [142107.34 91391.77 366168.42 'Florida']\n",
      " [131876.9 99814.71 362861.36 'New York']\n",
      " [134615.46 147198.87 127716.82 'California']\n",
      " [130298.13 145530.06 323876.68 'Florida']\n",
      " [120542.52 148718.95 311613.29 'New York']\n",
      " [123334.88 108679.17 304981.62 'California']\n",
      " [101913.08 110594.11 229160.95 'Florida']\n",
      " [100671.96 91790.61 249744.55 'California']\n",
      " [93863.75 127320.38 249839.44 'Florida']\n",
      " [91992.39 135495.07 252664.93 'California']\n",
      " [119943.24 156547.42 256512.92 'Florida']\n",
      " [114523.61 122616.84 261776.23 'New York']\n",
      " [78013.11 121597.55 264346.06 'California']\n",
      " [94657.16 145077.58 282574.31 'New York']\n",
      " [91749.16 114175.79 294919.57 'Florida']\n",
      " [86419.7 153514.11 0.0 'New York']\n",
      " [76253.86 113867.3 298664.47 'California']\n",
      " [78389.47 153773.43 299737.29 'New York']\n",
      " [73994.56 122782.75 303319.26 'Florida']\n",
      " [67532.53 105751.03 304768.73 'Florida']\n",
      " [77044.01 99281.34 140574.81 'New York']\n",
      " [64664.71 139553.16 137962.62 'California']\n",
      " [75328.87 144135.98 134050.07 'Florida']\n",
      " [72107.6 127864.55 353183.81 'New York']\n",
      " [66051.52 182645.56 118148.2 'Florida']\n",
      " [65605.48 153032.06 107138.38 'New York']\n",
      " [61994.48 115641.28 91131.24 'Florida']\n",
      " [61136.38 152701.92 88218.23 'New York']\n",
      " [63408.86 129219.61 46085.25 'California']\n",
      " [55493.95 103057.49 214634.81 'Florida']\n",
      " [46426.07 157693.92 210797.67 'California']\n",
      " [46014.02 85047.44 205517.64 'New York']\n",
      " [28663.76 127056.21 201126.82 'Florida']\n",
      " [44069.95 51283.14 197029.42 'California']\n",
      " [20229.59 65947.93 185265.1 'New York']\n",
      " [38558.51 82982.09 174999.3 'California']\n",
      " [28754.33 118546.05 172795.67 'California']\n",
      " [27892.92 84710.77 164470.71 'Florida']\n",
      " [23640.93 96189.63 148001.11 'California']\n",
      " [15505.73 127382.3 35534.17 'New York']\n",
      " [22177.74 154806.14 28334.72 'California']\n",
      " [1000.23 124153.04 1903.93 'New York']\n",
      " [1315.46 115816.21 297114.46 'Florida']\n",
      " [0.0 135426.92 0.0 'California']\n",
      " [542.05 51743.15 0.0 'New York']\n",
      " [0.0 116983.8 45173.06 'California']]\n"
     ]
    }
   ],
   "source": [
    "print(X)"
   ]
  },
  {
   "cell_type": "code",
   "execution_count": 18,
   "metadata": {},
   "outputs": [
    {
     "name": "stdout",
     "output_type": "stream",
     "text": [
      "[192261.83 191792.06 191050.39 182901.99 166187.94 156991.12 156122.51\n",
      " 155752.6  152211.77 149759.96 146121.95 144259.4  141585.52 134307.35\n",
      " 132602.65 129917.04 126992.93 125370.37 124266.9  122776.86 118474.03\n",
      " 111313.02 110352.25 108733.99 108552.04 107404.34 105733.54 105008.31\n",
      " 103282.38 101004.64  99937.59  97483.56  97427.84  96778.92  96712.8\n",
      "  96479.51  90708.19  89949.14  81229.06  81005.76  78239.91  77798.83\n",
      "  71498.49  69758.98  65200.33  64926.08  49490.75  42559.73  35673.41\n",
      "  14681.4 ]\n"
     ]
    }
   ],
   "source": [
    "print(y)"
   ]
  },
  {
   "cell_type": "markdown",
   "metadata": {},
   "source": [
    "## Encoding Categorical Data\n"
   ]
  },
  {
   "cell_type": "code",
   "execution_count": 19,
   "metadata": {},
   "outputs": [],
   "source": [
    "#importing ColumnTransformer from sklearn\n",
    "from sklearn.compose import ColumnTransformer\n",
    "\n",
    "#importing OneHotEncoder from sklearn\n",
    "from sklearn.preprocessing import OneHotEncoder\n",
    "\n",
    "#Encoding categorical data = Converting the states into dummy variables vector form.\n",
    "ct = ColumnTransformer(transformers=[('encoder', OneHotEncoder(), [3])], remainder='passthrough')\n",
    "\n",
    "#Fitting it into X\n",
    "X = np.array(ct.fit_transform(X))"
   ]
  },
  {
   "cell_type": "code",
   "execution_count": 20,
   "metadata": {},
   "outputs": [
    {
     "name": "stdout",
     "output_type": "stream",
     "text": [
      "[[0.0 0.0 1.0 165349.2 136897.8 471784.1]\n",
      " [1.0 0.0 0.0 162597.7 151377.59 443898.53]\n",
      " [0.0 1.0 0.0 153441.51 101145.55 407934.54]\n",
      " [0.0 0.0 1.0 144372.41 118671.85 383199.62]\n",
      " [0.0 1.0 0.0 142107.34 91391.77 366168.42]\n",
      " [0.0 0.0 1.0 131876.9 99814.71 362861.36]\n",
      " [1.0 0.0 0.0 134615.46 147198.87 127716.82]\n",
      " [0.0 1.0 0.0 130298.13 145530.06 323876.68]\n",
      " [0.0 0.0 1.0 120542.52 148718.95 311613.29]\n",
      " [1.0 0.0 0.0 123334.88 108679.17 304981.62]\n",
      " [0.0 1.0 0.0 101913.08 110594.11 229160.95]\n",
      " [1.0 0.0 0.0 100671.96 91790.61 249744.55]\n",
      " [0.0 1.0 0.0 93863.75 127320.38 249839.44]\n",
      " [1.0 0.0 0.0 91992.39 135495.07 252664.93]\n",
      " [0.0 1.0 0.0 119943.24 156547.42 256512.92]\n",
      " [0.0 0.0 1.0 114523.61 122616.84 261776.23]\n",
      " [1.0 0.0 0.0 78013.11 121597.55 264346.06]\n",
      " [0.0 0.0 1.0 94657.16 145077.58 282574.31]\n",
      " [0.0 1.0 0.0 91749.16 114175.79 294919.57]\n",
      " [0.0 0.0 1.0 86419.7 153514.11 0.0]\n",
      " [1.0 0.0 0.0 76253.86 113867.3 298664.47]\n",
      " [0.0 0.0 1.0 78389.47 153773.43 299737.29]\n",
      " [0.0 1.0 0.0 73994.56 122782.75 303319.26]\n",
      " [0.0 1.0 0.0 67532.53 105751.03 304768.73]\n",
      " [0.0 0.0 1.0 77044.01 99281.34 140574.81]\n",
      " [1.0 0.0 0.0 64664.71 139553.16 137962.62]\n",
      " [0.0 1.0 0.0 75328.87 144135.98 134050.07]\n",
      " [0.0 0.0 1.0 72107.6 127864.55 353183.81]\n",
      " [0.0 1.0 0.0 66051.52 182645.56 118148.2]\n",
      " [0.0 0.0 1.0 65605.48 153032.06 107138.38]\n",
      " [0.0 1.0 0.0 61994.48 115641.28 91131.24]\n",
      " [0.0 0.0 1.0 61136.38 152701.92 88218.23]\n",
      " [1.0 0.0 0.0 63408.86 129219.61 46085.25]\n",
      " [0.0 1.0 0.0 55493.95 103057.49 214634.81]\n",
      " [1.0 0.0 0.0 46426.07 157693.92 210797.67]\n",
      " [0.0 0.0 1.0 46014.02 85047.44 205517.64]\n",
      " [0.0 1.0 0.0 28663.76 127056.21 201126.82]\n",
      " [1.0 0.0 0.0 44069.95 51283.14 197029.42]\n",
      " [0.0 0.0 1.0 20229.59 65947.93 185265.1]\n",
      " [1.0 0.0 0.0 38558.51 82982.09 174999.3]\n",
      " [1.0 0.0 0.0 28754.33 118546.05 172795.67]\n",
      " [0.0 1.0 0.0 27892.92 84710.77 164470.71]\n",
      " [1.0 0.0 0.0 23640.93 96189.63 148001.11]\n",
      " [0.0 0.0 1.0 15505.73 127382.3 35534.17]\n",
      " [1.0 0.0 0.0 22177.74 154806.14 28334.72]\n",
      " [0.0 0.0 1.0 1000.23 124153.04 1903.93]\n",
      " [0.0 1.0 0.0 1315.46 115816.21 297114.46]\n",
      " [1.0 0.0 0.0 0.0 135426.92 0.0]\n",
      " [0.0 0.0 1.0 542.05 51743.15 0.0]\n",
      " [1.0 0.0 0.0 0.0 116983.8 45173.06]]\n"
     ]
    }
   ],
   "source": [
    "print(X)"
   ]
  },
  {
   "cell_type": "markdown",
   "metadata": {},
   "source": [
    "### As you can see that the state columns are encoded now."
   ]
  },
  {
   "cell_type": "markdown",
   "metadata": {},
   "source": [
    "### Splitting the dataset into the Training set and Test set\n"
   ]
  },
  {
   "cell_type": "code",
   "execution_count": 21,
   "metadata": {},
   "outputs": [],
   "source": [
    "from sklearn.model_selection import train_test_split\n",
    "X_train, X_test, y_train, y_test = train_test_split(X, y, test_size = 0.2, random_state = 0)"
   ]
  },
  {
   "cell_type": "markdown",
   "metadata": {},
   "source": [
    "### Training the Multiple Linear Regression model on the Training set"
   ]
  },
  {
   "cell_type": "code",
   "execution_count": 22,
   "metadata": {},
   "outputs": [
    {
     "data": {
      "text/plain": [
       "LinearRegression(copy_X=True, fit_intercept=True, n_jobs=None,\n",
       "         normalize=False)"
      ]
     },
     "execution_count": 22,
     "metadata": {},
     "output_type": "execute_result"
    }
   ],
   "source": [
    "from sklearn.linear_model import LinearRegression\n",
    "regressor = LinearRegression()\n",
    "regressor.fit(X_train, y_train)"
   ]
  },
  {
   "cell_type": "markdown",
   "metadata": {},
   "source": [
    "## Step 5: Filter Results and Build/Validate Models\n",
    "\n",
    "\n",
    "Perform any additional data carpentry and begin filtering results/data and then build, validate, and describe your model(s). \n",
    "\n",
    "Add more cells (`Insert > Insert Cell Below`) if you want additional cells."
   ]
  },
  {
   "cell_type": "code",
   "execution_count": 26,
   "metadata": {},
   "outputs": [
    {
     "name": "stdout",
     "output_type": "stream",
     "text": [
      "[[103015.2  103282.38]\n",
      " [132582.28 144259.4 ]\n",
      " [132447.74 146121.95]\n",
      " [ 71976.1   77798.83]\n",
      " [178537.48 191050.39]\n",
      " [116161.24 105008.31]\n",
      " [ 67851.69  81229.06]\n",
      " [ 98791.73  97483.56]\n",
      " [113969.44 110352.25]\n",
      " [167921.07 166187.94]]\n"
     ]
    }
   ],
   "source": [
    "y_pred = regressor.predict(X_test)\n",
    "np.set_printoptions(precision=2)\n",
    "print(np.concatenate((y_pred.reshape(len(y_pred),1), y_test.reshape(len(y_test),1)),1))\n"
   ]
  },
  {
   "cell_type": "markdown",
   "metadata": {},
   "source": [
    "### These are the predictions for the Test sets based upon our Multiple Linear Regression Model."
   ]
  },
  {
   "cell_type": "markdown",
   "metadata": {},
   "source": [
    "## Making a single Prediction\n",
    "for example the profit of a startup with R&D Spend = 160000, Administration Spend = 130000, Marketing Spend = 300000 and State = 'California'"
   ]
  },
  {
   "cell_type": "code",
   "execution_count": 27,
   "metadata": {},
   "outputs": [
    {
     "name": "stdout",
     "output_type": "stream",
     "text": [
      "[181566.92]\n"
     ]
    }
   ],
   "source": [
    "print(regressor.predict([[1, 0, 0, 160000, 130000, 300000]]))"
   ]
  },
  {
   "cell_type": "code",
   "execution_count": 28,
   "metadata": {},
   "outputs": [
    {
     "name": "stdout",
     "output_type": "stream",
     "text": [
      "[ 8.66e+01 -8.73e+02  7.86e+02  7.73e-01  3.29e-02  3.66e-02]\n",
      "42467.52924853204\n"
     ]
    }
   ],
   "source": [
    "print(regressor.coef_)\n",
    "print(regressor.intercept_)"
   ]
  },
  {
   "cell_type": "markdown",
   "metadata": {},
   "source": [
    "### Profit=86.6×Dummy State1 − 873×Dummy State2 + 786×Dummy State3 + 0.773×R&D Spend + 0.0329×Administration + 0.0366×Marketing Spend + 42467.53\n",
    "\n",
    "Hence the equation for Multiple Linear Regression turns out to be this.\n",
    "The equation shows us that the profit depends upon all these variables and by using this we can predict the Profit."
   ]
  },
  {
   "cell_type": "markdown",
   "metadata": {},
   "source": [
    "## Step 6: Visualize Results\n",
    "\n",
    "Build up your key visual story elements!\n",
    "\n",
    "Add more cells (`Insert > Insert Cell Below`) if you want additional cells."
   ]
  },
  {
   "cell_type": "markdown",
   "metadata": {
    "collapsed": true
   },
   "source": [
    "## Visualisation for Simple Linear Regression has been made in the above code and we cannot plot Visualisation for Multiple Linear Regression in this dataset.\n",
    "**Because earlier it was 1 dependent and 1 independent variable and we plotted them in a 2-D graph, but now there are 4 feature variable and 1 dependent variable, so we need a 5-D graph(Which is not possible to Visualise by Humans).**\n"
   ]
  },
  {
   "cell_type": "markdown",
   "metadata": {},
   "source": [
    "## Step 7: Communicate the Story to your intended audience using visualizations and narrative\n",
    "\n",
    "\n",
    "In a few paragraphs, describe the story the data tells. \n",
    "\n",
    "Additionally, post your most compelling visual and provide a brief description of what it conveys on to our mutual aid channel (the slack course channel). \n",
    "\n",
    "Feel free to post more examples for people to look at and provide feedback. Your classmates will be vital providers of feedback in this process. Utilize them."
   ]
  },
  {
   "cell_type": "raw",
   "metadata": {
    "collapsed": true
   },
   "source": [
    "Well The Simple Linear Regression provided us with both prediction and data visualisation in which we can see that our model that we built on training set was somewhat reliable, but it is not accurately predicting the outcomes, because of multiple variables involved in profit prediction.\n",
    "\n",
    "Multiple Linear Regression that we used in the next case provides us with quite better prediction results and also by calculating the intercept and coefficient, we actually got a linear regression equation that we can apply to any data points for the prediction.\n",
    "\n",
    "\n",
    "Q6. Best Company to Invest for Future?\n",
    "Ans6. Now that we have calculated the coefficient and intercept for the Multiple Linear Regression model, and we also have the equation for it, we can clearly see from the equation that which feature variable has more importance.\n",
    "\n",
    "\n",
    "Q7. Where does a company performs better \"New York\" or \"California\" when all others thinngs are held constant.\n",
    "Ans7. From the Multiple Linear Regression equation, we can see the values for the Dummy variables and are they positive or negative, So from that observation it turns out to be that, Companies performs the best in \"New York\" if everything else is constant.\n",
    "\n",
    "\n",
    "Q8. Money spent on which field will yields more profit.\n",
    "Ans8. As the coeff for the R&D spent is the highest one, hence the higher Money spent on that field will yield higher profits.\n",
    "\n",
    "\n",
    "\n"
   ]
  },
  {
   "cell_type": "markdown",
   "metadata": {},
   "source": [
    "# Final Step: Connect your workflow/process to the DSA-Project Life Cycle\n",
    "- List and briefly discuss how important details from each stage of the [DSA-PLC](../../module1/resources/DSA-ProjectLifecycle-slidedeck.pdf) played a role in your story development.\n",
    "- Use markdown to provide this overview below:\n",
    "<hr/>\n",
    "\n",
    "<h1 align=\"center\"><u>DSA-Project Life Cycle Discussion</u></h1>\n",
    "\n"
   ]
  },
  {
   "cell_type": "markdown",
   "metadata": {},
   "source": [
    "#Stage1 = Project Definition = Well I have defined about the project and the story about it, how it gonna work.\n",
    "#Stage2 = Data Acquisition = Well I have acquired the data from kaggle and also have provided the url for that and everything else can be seen from the kaggle website itself.\n",
    "#Stage3 = Data shaping and Carpentry = Data had been cleaned and one hot encoding has been applied to it, for better and meaningull results.\n",
    "#Stage 4 = Exploratory Data analysis and visualisation = Well I have analysed the data and made some scattered plot for better visualisation.\n",
    "#Stage5 = Machine Learning Model Planning and Building Testing = Well I have applied two different machine learning model and compared them with each other and saw how are the two different from one another.\n",
    "#Stage6 = ML Model Validation = Multiple Linear regression model has been applied and output for that has been seen in the project.\n",
    "#Stage7 = Data Story = Story has been told about how it works and how helpull the model is in predicting different future outcomes.\n",
    "#Stage8 = ML Model Deployment = Multiple Machine learning model applied in this project tells us that how can it be used to predicting single output with different dependent variable."
   ]
  },
  {
   "cell_type": "markdown",
   "metadata": {},
   "source": [
    "# Save your notebook, then `File > Close and Halt`"
   ]
  }
 ],
 "metadata": {
  "kernelspec": {
   "display_name": "Python 3",
   "language": "python",
   "name": "python3"
  },
  "language_info": {
   "codemirror_mode": {
    "name": "ipython",
    "version": 3
   },
   "file_extension": ".py",
   "mimetype": "text/x-python",
   "name": "python",
   "nbconvert_exporter": "python",
   "pygments_lexer": "ipython3",
   "version": "3.7.3"
  }
 },
 "nbformat": 4,
 "nbformat_minor": 2
}
